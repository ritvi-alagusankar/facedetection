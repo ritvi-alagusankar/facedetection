{
 "cells": [
  {
   "cell_type": "markdown",
   "metadata": {},
   "source": [
    "# FaceNet"
   ]
  },
  {
   "cell_type": "markdown",
   "metadata": {},
   "source": [
    "## 1. Setup and Imports"
   ]
  },
  {
   "cell_type": "code",
   "execution_count": 1,
   "metadata": {},
   "outputs": [
    {
     "name": "stdout",
     "output_type": "stream",
     "text": [
      "Using device: cpu\n",
      "Initializing MTCNN (face detector)...\n",
      "Initializing InceptionResnetV1 (FaceNet embeddings)...\n",
      "Models Initialized.\n"
     ]
    }
   ],
   "source": [
    "import os\n",
    "import pickle\n",
    "import numpy as np\n",
    "import torch\n",
    "from PIL import Image\n",
    "from sklearn.model_selection import train_test_split\n",
    "from sklearn.metrics import confusion_matrix\n",
    "from torch.utils.data import DataLoader, Dataset\n",
    "from facenet_pytorch import InceptionResnetV1, MTCNN\n",
    "import torchvision.transforms as transforms\n",
    "import torch.nn as nn\n",
    "import torch.optim as optim\n",
    "from torch.optim.lr_scheduler import ReduceLROnPlateau\n",
    "import torch.nn.functional as F\n",
    "import cv2\n",
    "from tqdm.notebook import tqdm\n",
    "import matplotlib.pyplot as plt\n",
    "import seaborn as sns\n",
    "\n",
    "\n",
    "dataset_path = \"dataset\"\n",
    "val_size = 0.25\n",
    "batch_size = 16\n",
    "num_epochs = 30\n",
    "learning_rate = 0.001\n",
    "weight_decay = 1e-4\n",
    "dropout_rate = 0.5\n",
    "patience = 3 # For learning rate scheduler\n",
    "final_model_path = \"face_model.pkl\"\n",
    "best_model_path = \"best_face_model.pkl\"\n",
    "\n",
    "\n",
    "# Force CPU usage\n",
    "device = torch.device(\"cpu\")\n",
    "# To use GPU if available:\n",
    "# device = torch.device(\"cuda\" if torch.cuda.is_available() else \"cpu\")\n",
    "print(f\"Using device: {device}\")\n",
    "\n",
    "\n",
    "print(\"Initializing MTCNN (face detector)...\")\n",
    "# MTCNN for training (detects one face reliably)\n",
    "mtcnn_train = MTCNN(image_size=160, margin=40, keep_all=False, thresholds=[0.6, 0.7, 0.7], min_face_size=40, device=device)\n",
    "# MTCNN for testing (detects multiple faces)\n",
    "mtcnn_test = MTCNN(image_size=160, margin=40, keep_all=True, thresholds=[0.4, 0.5, 0.6], min_face_size=15, device=device)\n",
    "\n",
    "print(\"Initializing InceptionResnetV1 (FaceNet embeddings)...\")\n",
    "facenet = InceptionResnetV1(pretrained='vggface2').eval().to(device)\n",
    "print(\"Models Initialized.\")"
   ]
  },
  {
   "cell_type": "markdown",
   "metadata": {},
   "source": [
    "## 2. Data Preparation"
   ]
  },
  {
   "cell_type": "code",
   "execution_count": 2,
   "metadata": {},
   "outputs": [],
   "source": [
    "# Enhanced Data Augmentation for Training\n",
    "train_transform = transforms.Compose([\n",
    "    transforms.ToPILImage(),\n",
    "    transforms.RandomHorizontalFlip(p=0.5),\n",
    "    transforms.RandomRotation(20),\n",
    "    transforms.ColorJitter(brightness=0.3, contrast=0.3, saturation=0.3, hue=0.1),\n",
    "    transforms.RandomResizedCrop(160, scale=(0.85, 1.15)),\n",
    "    transforms.RandomPerspective(distortion_scale=0.2, p=0.5),\n",
    "    transforms.RandomAutocontrast(p=0.3),\n",
    "    transforms.ToTensor(),\n",
    "    transforms.Normalize([0.5, 0.5, 0.5], [0.5, 0.5, 0.5]),\n",
    "    transforms.RandomErasing(p=0.2, scale=(0.02, 0.1)),\n",
    "])\n",
    "\n",
    "# Validation transformations (minimal augmentation)\n",
    "val_transform = transforms.Compose([\n",
    "    transforms.ToPILImage(),\n",
    "    transforms.ToTensor(),\n",
    "    transforms.Normalize([0.5, 0.5, 0.5], [0.5, 0.5, 0.5])\n",
    "])"
   ]
  },
  {
   "cell_type": "code",
   "execution_count": 3,
   "metadata": {},
   "outputs": [],
   "source": [
    "# Custom collate function to handle None values from MTCNN\n",
    "def custom_collate_fn(batch):\n",
    "    # Filter out None values (where face detection might have failed unexpectedly)\n",
    "    batch = list(filter(lambda x: x is not None, batch))\n",
    "    \n",
    "    # If all elements are None after filtering, return empty tensors/lists\n",
    "    if len(batch) == 0:\n",
    "        return torch.Tensor([]).to(device), []\n",
    "    \n",
    "    # Separate images and labels\n",
    "    images = [item[0] for item in batch]\n",
    "    labels = [item[1] for item in batch]\n",
    "    \n",
    "    # Stack images into a batch tensor\n",
    "    images = torch.stack(images, dim=0).to(device)\n",
    "    \n",
    "    return images, labels\n",
    "\n",
    "# Dataset Class\n",
    "class FaceDataset(Dataset):\n",
    "    def __init__(self, image_paths, labels, transform=None, mtcnn_model=None, device='cpu', preload=False):\n",
    "        self.image_paths = image_paths\n",
    "        self.labels = labels\n",
    "        self.transform = transform\n",
    "        self.mtcnn = mtcnn_model\n",
    "        self.device = device\n",
    "        self.preload = preload\n",
    "        self.preloaded_faces = {}\n",
    "        self.valid_indices = []\n",
    "\n",
    "        if self.mtcnn is None:\n",
    "            raise ValueError(\"MTCNN model must be provided to FaceDataset\")\n",
    "\n",
    "        # Pre-process images to find valid faces and optionally preload\n",
    "        print(\"Pre-processing images to detect faces...\")\n",
    "        for idx, img_path in tqdm(enumerate(self.image_paths), total=len(self.image_paths)):\n",
    "            try:\n",
    "                img = Image.open(img_path).convert('RGB')\n",
    "                # Detect face using the provided MTCNN instance\n",
    "                face = self.mtcnn(img)\n",
    "                if face is not None:\n",
    "                    self.valid_indices.append(idx)\n",
    "                    if preload:\n",
    "                        # Convert tensor to numpy for storage (saves GPU memory if preloading)\n",
    "                        face_np = (face.permute(1, 2, 0).cpu().numpy() * 255).astype(np.uint8)\n",
    "                        self.preloaded_faces[idx] = face_np\n",
    "            except Exception as e:\n",
    "                print(f\"\\nWarning: Error processing image {img_path}: {e}\")\n",
    "        \n",
    "        print(f\"Found {len(self.valid_indices)} valid faces out of {len(self.image_paths)} images\")\n",
    "\n",
    "    def __len__(self):\n",
    "        return len(self.valid_indices)\n",
    "\n",
    "    def __getitem__(self, idx):\n",
    "        true_idx = self.valid_indices[idx]\n",
    "        img_path = self.image_paths[true_idx]\n",
    "        label = self.labels[true_idx]\n",
    "        \n",
    "        face_np = None\n",
    "        try:\n",
    "            if self.preload and true_idx in self.preloaded_faces:\n",
    "                face_np = self.preloaded_faces[true_idx]\n",
    "            else:\n",
    "                img = Image.open(img_path).convert('RGB')\n",
    "                face_tensor = self.mtcnn(img) \n",
    "                \n",
    "                if face_tensor is None:\n",
    "                    print(f\"\\nWarning: Face detection failed for {img_path} during data loading (should have been pre-filtered). Skipping.\")\n",
    "                    # Return None to be filtered by collate_fn\n",
    "                    return None\n",
    "                \n",
    "                # Convert tensor to numpy for transformation pipeline (ToPILImage expects numpy or PIL)\n",
    "                face_np = (face_tensor.permute(1, 2, 0).cpu().numpy() * 255).astype(np.uint8)\n",
    "            \n",
    "            # Apply transformations\n",
    "            if self.transform:\n",
    "                face_tensor = self.transform(face_np) \n",
    "            else:\n",
    "                # Basic transform if none provided\n",
    "                face_tensor = transforms.ToTensor()(face_np)\n",
    "            \n",
    "            return face_tensor, label\n",
    "            \n",
    "        except Exception as e:\n",
    "            print(f\"\\nError during __getitem__ for {img_path}: {e}\")\n",
    "            # Return None to be filtered by collate_fn\n",
    "            return None\n",
    "\n",
    "# Load Dataset Function\n",
    "def load_dataset(dataset_path, val_size=0.25):\n",
    "    image_paths, labels = [], []\n",
    "    if not os.path.exists(dataset_path):\n",
    "        raise FileNotFoundError(f\"Dataset directory '{dataset_path}' not found. CWD: {os.getcwd()}\")\n",
    "        \n",
    "    class_names = sorted([d for d in os.listdir(dataset_path) if os.path.isdir(os.path.join(dataset_path, d))])\n",
    "    print(f\"Found classes: {class_names}\")\n",
    "    if not class_names:\n",
    "         raise ValueError(f\"No subdirectories found in '{dataset_path}'. Each subdirectory should represent a class.\")\n",
    "         \n",
    "    class_counts = {class_name: 0 for class_name in class_names}\n",
    "    \n",
    "    for class_idx, class_name in enumerate(class_names):\n",
    "        class_dir = os.path.join(dataset_path, class_name)\n",
    "        image_count_in_class = 0\n",
    "        for file in os.listdir(class_dir):\n",
    "            if file.lower().endswith(('.png', '.jpg', '.jpeg')):\n",
    "                image_paths.append(os.path.join(class_dir, file))\n",
    "                labels.append(class_name) # Store class name as label\n",
    "                image_count_in_class += 1\n",
    "        \n",
    "        class_counts[class_name] = image_count_in_class\n",
    "        print(f\"Class '{class_name}': {image_count_in_class} images\")\n",
    "\n",
    "    if len(image_paths) == 0:\n",
    "        raise ValueError(\"No images found in the dataset directory. Check subfolders and image formats (.png, .jpg, .jpeg).\")\n",
    "    \n",
    "    # Train-validation split\n",
    "    train_images, val_images, train_labels, val_labels = train_test_split(\n",
    "        image_paths, labels, test_size=val_size, random_state=42, stratify=labels\n",
    "    )\n",
    "    \n",
    "    print(f\"\\nTotal images: {len(image_paths)}\")\n",
    "    print(f\"Training set size: {len(train_images)}\")\n",
    "    print(f\"Validation set size: {len(val_images)}\")\n",
    "    \n",
    "    # Calculate class weights for handling imbalance\n",
    "    class_weights = {}\n",
    "    total_samples = len(train_labels) # Use training set size for weight calculation\n",
    "    num_classes = len(class_names)\n",
    "    \n",
    "    # Recalculate counts based on the actual training split\n",
    "    train_class_counts = {class_name: train_labels.count(class_name) for class_name in class_names}\n",
    "\n",
    "    for class_name, count in train_class_counts.items():\n",
    "        if count > 0:\n",
    "            class_weights[class_name] = total_samples / (num_classes * count)\n",
    "        else:\n",
    "            # Assign a default weight if a class is not in the training set (shouldn't happen with stratify)\n",
    "            class_weights[class_name] = 1.0 \n",
    "            print(f\"Warning: Class '{class_name}' has 0 samples in the training set.\")\n",
    "            \n",
    "    print(f\"Calculated class weights: {class_weights}\")\n",
    "    \n",
    "    return train_images, train_labels, val_images, val_labels, class_names, class_weights"
   ]
  },
  {
   "cell_type": "markdown",
   "metadata": {},
   "source": [
    "## 3. Model Definition"
   ]
  },
  {
   "cell_type": "code",
   "execution_count": 4,
   "metadata": {},
   "outputs": [],
   "source": [
    "# Enhanced FaceClassifier Model with dropout and batch normalization\n",
    "class FaceClassifier(nn.Module):\n",
    "    def __init__(self, embedding_dim, num_classes, dropout_rate=0.5):\n",
    "        super(FaceClassifier, self).__init__()\n",
    "        \n",
    "        # First dense block\n",
    "        self.fc1 = nn.Linear(embedding_dim, 512)\n",
    "        self.bn1 = nn.BatchNorm1d(512) # Batch Norm helps stabilize training\n",
    "        self.dropout1 = nn.Dropout(dropout_rate) # Dropout reduces overfitting\n",
    "        \n",
    "        # Second dense block\n",
    "        self.fc2 = nn.Linear(512, 256)\n",
    "        self.bn2 = nn.BatchNorm1d(256)\n",
    "        self.dropout2 = nn.Dropout(dropout_rate)\n",
    "        \n",
    "        # Output layer\n",
    "        self.fc3 = nn.Linear(256, num_classes)\n",
    "    \n",
    "    def forward(self, x):\n",
    "        # Input x is expected to be the embedding from FaceNet\n",
    "        \n",
    "        # First block\n",
    "        x = self.fc1(x)\n",
    "        # Apply BatchNorm only if batch size > 1, otherwise it throws an error\n",
    "        if x.size(0) > 1:\n",
    "             x = self.bn1(x)\n",
    "        x = F.relu(x)\n",
    "        x = self.dropout1(x)\n",
    "        \n",
    "        # Second block\n",
    "        x = self.fc2(x)\n",
    "        if x.size(0) > 1:\n",
    "             x = self.bn2(x)\n",
    "        x = F.relu(x)\n",
    "        x = self.dropout2(x)\n",
    "        \n",
    "        # Output layer (Logits)\n",
    "        # CrossEntropyLoss applies log_softmax internally, so no activation needed here\n",
    "        x = self.fc3(x)\n",
    "        \n",
    "        return x"
   ]
  },
  {
   "cell_type": "markdown",
   "metadata": {},
   "source": [
    "## 4. Training"
   ]
  },
  {
   "cell_type": "code",
   "execution_count": 5,
   "metadata": {},
   "outputs": [],
   "source": [
    "# Function to evaluate the model on the validation set\n",
    "def evaluate_model(model, val_loader, criterion, device, label_map):\n",
    "    model.eval() # Set model to evaluation mode\n",
    "    total_loss = 0.0\n",
    "    all_preds = []\n",
    "    all_labels = []\n",
    "    correct, total = 0, 0\n",
    "    \n",
    "    with torch.no_grad(): # Disable gradient calculations\n",
    "        for images, labels in val_loader:\n",
    "            if images.nelement() == 0: # Skip if batch is empty after collate_fn filtering\n",
    "                continue\n",
    "                \n",
    "            images = images.to(device)\n",
    "            # Convert string labels to numerical indices\n",
    "            label_indices = torch.tensor([label_map[label] for label in labels]).to(device)\n",
    "            \n",
    "            # Get embeddings from FaceNet (pre-trained model)\n",
    "            embeddings = facenet(images)\n",
    "            # Get predictions from our classifier\n",
    "            outputs = model(embeddings)\n",
    "            \n",
    "            # Calculate loss\n",
    "            loss = criterion(outputs, label_indices)\n",
    "            total_loss += loss.item() * images.size(0) # Accumulate weighted loss\n",
    "            \n",
    "            # Calculate accuracy\n",
    "            _, predicted = torch.max(outputs.data, 1)\n",
    "            total += label_indices.size(0)\n",
    "            correct += (predicted == label_indices).sum().item()\n",
    "            \n",
    "            # Store predictions and true labels for confusion matrix\n",
    "            all_preds.extend(predicted.cpu().numpy())\n",
    "            all_labels.extend(label_indices.cpu().numpy())\n",
    "            \n",
    "    # Calculate average loss and accuracy\n",
    "    avg_loss = total_loss / total if total > 0 else 0\n",
    "    accuracy = correct / total if total > 0 else 0\n",
    "    \n",
    "    return avg_loss, accuracy, all_preds, all_labels"
   ]
  },
  {
   "cell_type": "code",
   "execution_count": 6,
   "metadata": {},
   "outputs": [
    {
     "name": "stdout",
     "output_type": "stream",
     "text": [
      "Found classes: ['amisha', 'dhanoosh', 'jose', 'jui', 'ritvi', 'siddhangana', 'sparsh', 'yash']\n",
      "Class 'amisha': 40 images\n",
      "Class 'dhanoosh': 40 images\n",
      "Class 'jose': 40 images\n",
      "Class 'jui': 40 images\n",
      "Class 'ritvi': 40 images\n",
      "Class 'siddhangana': 40 images\n",
      "Class 'sparsh': 40 images\n",
      "Class 'yash': 40 images\n",
      "\n",
      "Total images: 320\n",
      "Training set size: 240\n",
      "Validation set size: 80\n",
      "Calculated class weights: {'amisha': 1.0, 'dhanoosh': 1.0, 'jose': 1.0, 'jui': 1.0, 'ritvi': 1.0, 'siddhangana': 1.0, 'sparsh': 1.0, 'yash': 1.0}\n",
      "Pre-processing images to detect faces...\n"
     ]
    },
    {
     "data": {
      "application/vnd.jupyter.widget-view+json": {
       "model_id": "c0bfa345af464095b899d8b507195526",
       "version_major": 2,
       "version_minor": 0
      },
      "text/plain": [
       "  0%|          | 0/240 [00:00<?, ?it/s]"
      ]
     },
     "metadata": {},
     "output_type": "display_data"
    },
    {
     "name": "stdout",
     "output_type": "stream",
     "text": [
      "Found 239 valid faces out of 240 images\n",
      "Pre-processing images to detect faces...\n"
     ]
    },
    {
     "data": {
      "application/vnd.jupyter.widget-view+json": {
       "model_id": "1187379e86224cdba7c36e9c2cc48c23",
       "version_major": 2,
       "version_minor": 0
      },
      "text/plain": [
       "  0%|          | 0/80 [00:00<?, ?it/s]"
      ]
     },
     "metadata": {},
     "output_type": "display_data"
    },
    {
     "name": "stdout",
     "output_type": "stream",
     "text": [
      "Found 79 valid faces out of 80 images\n",
      "Using loss weight tensor: tensor([1., 1., 1., 1., 1., 1., 1., 1.])\n",
      "\n",
      "Starting training for 30 epochs...\n"
     ]
    },
    {
     "name": "stderr",
     "output_type": "stream",
     "text": [
      "c:\\Users\\Lenovo\\anaconda3\\envs\\ee4228\\lib\\site-packages\\torch\\optim\\lr_scheduler.py:28: UserWarning: The verbose parameter is deprecated. Please use get_last_lr() to access the learning rate.\n",
      "  warnings.warn(\"The verbose parameter is deprecated. Please use get_last_lr() \"\n"
     ]
    },
    {
     "data": {
      "application/vnd.jupyter.widget-view+json": {
       "model_id": "6bca7a692aa14c0e96fa85569f423762",
       "version_major": 2,
       "version_minor": 0
      },
      "text/plain": [
       "Epoch 1/30 [Train]:   0%|          | 0/15 [00:00<?, ?it/s]"
      ]
     },
     "metadata": {},
     "output_type": "display_data"
    },
    {
     "name": "stdout",
     "output_type": "stream",
     "text": [
      "Epoch 1/30 Summary:\n",
      "  Train Loss: 1.5915, Train Acc: 0.4686\n",
      "  Val Loss:   1.9842, Val Acc:   0.2278\n",
      "  Current LR: 0.001000\n",
      "---> New best model saved to best_face_model.pkl (Val Acc: 0.2278)\n"
     ]
    },
    {
     "data": {
      "application/vnd.jupyter.widget-view+json": {
       "model_id": "21ab9dfa5f2d4872b0ee8ccbde377945",
       "version_major": 2,
       "version_minor": 0
      },
      "text/plain": [
       "Epoch 2/30 [Train]:   0%|          | 0/15 [00:00<?, ?it/s]"
      ]
     },
     "metadata": {},
     "output_type": "display_data"
    },
    {
     "name": "stdout",
     "output_type": "stream",
     "text": [
      "Epoch 2/30 Summary:\n",
      "  Train Loss: 1.1094, Train Acc: 0.6736\n",
      "  Val Loss:   1.7049, Val Acc:   0.4051\n",
      "  Current LR: 0.001000\n",
      "---> New best model saved to best_face_model.pkl (Val Acc: 0.4051)\n"
     ]
    },
    {
     "data": {
      "application/vnd.jupyter.widget-view+json": {
       "model_id": "5883f288951c4555a5884f898a92fa1e",
       "version_major": 2,
       "version_minor": 0
      },
      "text/plain": [
       "Epoch 3/30 [Train]:   0%|          | 0/15 [00:00<?, ?it/s]"
      ]
     },
     "metadata": {},
     "output_type": "display_data"
    },
    {
     "name": "stdout",
     "output_type": "stream",
     "text": [
      "Epoch 3/30 Summary:\n",
      "  Train Loss: 0.9104, Train Acc: 0.6904\n",
      "  Val Loss:   1.1139, Val Acc:   0.8228\n",
      "  Current LR: 0.001000\n",
      "---> New best model saved to best_face_model.pkl (Val Acc: 0.8228)\n"
     ]
    },
    {
     "data": {
      "application/vnd.jupyter.widget-view+json": {
       "model_id": "ad94a8ae604741dd86fef36c0ddee4d1",
       "version_major": 2,
       "version_minor": 0
      },
      "text/plain": [
       "Epoch 4/30 [Train]:   0%|          | 0/15 [00:00<?, ?it/s]"
      ]
     },
     "metadata": {},
     "output_type": "display_data"
    },
    {
     "name": "stdout",
     "output_type": "stream",
     "text": [
      "Epoch 4/30 Summary:\n",
      "  Train Loss: 0.7340, Train Acc: 0.7615\n",
      "  Val Loss:   0.6117, Val Acc:   0.8481\n",
      "  Current LR: 0.001000\n",
      "---> New best model saved to best_face_model.pkl (Val Acc: 0.8481)\n"
     ]
    },
    {
     "data": {
      "application/vnd.jupyter.widget-view+json": {
       "model_id": "29d7d5536dff4eba8aee463c85a56544",
       "version_major": 2,
       "version_minor": 0
      },
      "text/plain": [
       "Epoch 5/30 [Train]:   0%|          | 0/15 [00:00<?, ?it/s]"
      ]
     },
     "metadata": {},
     "output_type": "display_data"
    },
    {
     "name": "stdout",
     "output_type": "stream",
     "text": [
      "Epoch 5/30 Summary:\n",
      "  Train Loss: 0.6737, Train Acc: 0.8033\n",
      "  Val Loss:   0.4568, Val Acc:   0.8481\n",
      "  Current LR: 0.001000\n"
     ]
    },
    {
     "data": {
      "application/vnd.jupyter.widget-view+json": {
       "model_id": "22d9bedc8ace476db228714e13ed282a",
       "version_major": 2,
       "version_minor": 0
      },
      "text/plain": [
       "Epoch 6/30 [Train]:   0%|          | 0/15 [00:00<?, ?it/s]"
      ]
     },
     "metadata": {},
     "output_type": "display_data"
    },
    {
     "name": "stdout",
     "output_type": "stream",
     "text": [
      "Epoch 6/30 Summary:\n",
      "  Train Loss: 0.5940, Train Acc: 0.8117\n",
      "  Val Loss:   0.3529, Val Acc:   0.8861\n",
      "  Current LR: 0.001000\n",
      "---> New best model saved to best_face_model.pkl (Val Acc: 0.8861)\n"
     ]
    },
    {
     "data": {
      "application/vnd.jupyter.widget-view+json": {
       "model_id": "6f88ea6f95534ca08b31d7699d7693d8",
       "version_major": 2,
       "version_minor": 0
      },
      "text/plain": [
       "Epoch 7/30 [Train]:   0%|          | 0/15 [00:00<?, ?it/s]"
      ]
     },
     "metadata": {},
     "output_type": "display_data"
    },
    {
     "name": "stdout",
     "output_type": "stream",
     "text": [
      "Epoch 7/30 Summary:\n",
      "  Train Loss: 0.5540, Train Acc: 0.8452\n",
      "  Val Loss:   0.3445, Val Acc:   0.8608\n",
      "  Current LR: 0.001000\n"
     ]
    },
    {
     "data": {
      "application/vnd.jupyter.widget-view+json": {
       "model_id": "17dcab928e8f40c2961a0e35f69f070e",
       "version_major": 2,
       "version_minor": 0
      },
      "text/plain": [
       "Epoch 8/30 [Train]:   0%|          | 0/15 [00:00<?, ?it/s]"
      ]
     },
     "metadata": {},
     "output_type": "display_data"
    },
    {
     "name": "stdout",
     "output_type": "stream",
     "text": [
      "Epoch 8/30 Summary:\n",
      "  Train Loss: 0.5857, Train Acc: 0.8159\n",
      "  Val Loss:   0.3150, Val Acc:   0.8987\n",
      "  Current LR: 0.001000\n",
      "---> New best model saved to best_face_model.pkl (Val Acc: 0.8987)\n"
     ]
    },
    {
     "data": {
      "application/vnd.jupyter.widget-view+json": {
       "model_id": "e279eb04de7b464eb6e92f952fd97b34",
       "version_major": 2,
       "version_minor": 0
      },
      "text/plain": [
       "Epoch 9/30 [Train]:   0%|          | 0/15 [00:00<?, ?it/s]"
      ]
     },
     "metadata": {},
     "output_type": "display_data"
    },
    {
     "name": "stdout",
     "output_type": "stream",
     "text": [
      "Epoch 9/30 Summary:\n",
      "  Train Loss: 0.5424, Train Acc: 0.8075\n",
      "  Val Loss:   0.3281, Val Acc:   0.8987\n",
      "  Current LR: 0.001000\n"
     ]
    },
    {
     "data": {
      "application/vnd.jupyter.widget-view+json": {
       "model_id": "09be6c9bd6fc497fbb9562e4fa3ec695",
       "version_major": 2,
       "version_minor": 0
      },
      "text/plain": [
       "Epoch 10/30 [Train]:   0%|          | 0/15 [00:00<?, ?it/s]"
      ]
     },
     "metadata": {},
     "output_type": "display_data"
    },
    {
     "name": "stdout",
     "output_type": "stream",
     "text": [
      "Epoch 10/30 Summary:\n",
      "  Train Loss: 0.5557, Train Acc: 0.8201\n",
      "  Val Loss:   0.3490, Val Acc:   0.8861\n",
      "  Current LR: 0.001000\n"
     ]
    },
    {
     "data": {
      "application/vnd.jupyter.widget-view+json": {
       "model_id": "04c9de6d0b2147e584222dbb83caa8a9",
       "version_major": 2,
       "version_minor": 0
      },
      "text/plain": [
       "Epoch 11/30 [Train]:   0%|          | 0/15 [00:00<?, ?it/s]"
      ]
     },
     "metadata": {},
     "output_type": "display_data"
    },
    {
     "name": "stdout",
     "output_type": "stream",
     "text": [
      "Epoch 11/30 Summary:\n",
      "  Train Loss: 0.5544, Train Acc: 0.7950\n",
      "  Val Loss:   0.3192, Val Acc:   0.8861\n",
      "  Current LR: 0.001000\n"
     ]
    },
    {
     "data": {
      "application/vnd.jupyter.widget-view+json": {
       "model_id": "d52bbb5d2b4f421c9d94522dab952514",
       "version_major": 2,
       "version_minor": 0
      },
      "text/plain": [
       "Epoch 12/30 [Train]:   0%|          | 0/15 [00:00<?, ?it/s]"
      ]
     },
     "metadata": {},
     "output_type": "display_data"
    },
    {
     "name": "stdout",
     "output_type": "stream",
     "text": [
      "Epoch 12/30 Summary:\n",
      "  Train Loss: 0.4881, Train Acc: 0.8368\n",
      "  Val Loss:   0.2856, Val Acc:   0.8987\n",
      "  Current LR: 0.001000\n"
     ]
    },
    {
     "data": {
      "application/vnd.jupyter.widget-view+json": {
       "model_id": "4f57553144c24955b51c4b17f7e2eabc",
       "version_major": 2,
       "version_minor": 0
      },
      "text/plain": [
       "Epoch 13/30 [Train]:   0%|          | 0/15 [00:00<?, ?it/s]"
      ]
     },
     "metadata": {},
     "output_type": "display_data"
    },
    {
     "name": "stdout",
     "output_type": "stream",
     "text": [
      "Epoch 13/30 Summary:\n",
      "  Train Loss: 0.4156, Train Acc: 0.8703\n",
      "  Val Loss:   0.3349, Val Acc:   0.8734\n",
      "  Current LR: 0.001000\n"
     ]
    },
    {
     "data": {
      "application/vnd.jupyter.widget-view+json": {
       "model_id": "c9370b221d2241df86fccf980c08c13b",
       "version_major": 2,
       "version_minor": 0
      },
      "text/plain": [
       "Epoch 14/30 [Train]:   0%|          | 0/15 [00:00<?, ?it/s]"
      ]
     },
     "metadata": {},
     "output_type": "display_data"
    },
    {
     "name": "stdout",
     "output_type": "stream",
     "text": [
      "Epoch 14/30 Summary:\n",
      "  Train Loss: 0.4761, Train Acc: 0.8452\n",
      "  Val Loss:   0.3421, Val Acc:   0.8608\n",
      "  Current LR: 0.001000\n"
     ]
    },
    {
     "data": {
      "application/vnd.jupyter.widget-view+json": {
       "model_id": "8e5efcf9fa30436b8ce2fbd32e1c5c14",
       "version_major": 2,
       "version_minor": 0
      },
      "text/plain": [
       "Epoch 15/30 [Train]:   0%|          | 0/15 [00:00<?, ?it/s]"
      ]
     },
     "metadata": {},
     "output_type": "display_data"
    },
    {
     "name": "stdout",
     "output_type": "stream",
     "text": [
      "Epoch 15/30 Summary:\n",
      "  Train Loss: 0.5881, Train Acc: 0.7908\n",
      "  Val Loss:   0.3354, Val Acc:   0.8734\n",
      "  Current LR: 0.001000\n"
     ]
    },
    {
     "data": {
      "application/vnd.jupyter.widget-view+json": {
       "model_id": "89c6f0925eec4aae8b1b95acf0a77fd1",
       "version_major": 2,
       "version_minor": 0
      },
      "text/plain": [
       "Epoch 16/30 [Train]:   0%|          | 0/15 [00:00<?, ?it/s]"
      ]
     },
     "metadata": {},
     "output_type": "display_data"
    },
    {
     "name": "stdout",
     "output_type": "stream",
     "text": [
      "Epoch 16/30 Summary:\n",
      "  Train Loss: 0.5179, Train Acc: 0.8159\n",
      "  Val Loss:   0.3182, Val Acc:   0.8861\n",
      "  Current LR: 0.000500\n"
     ]
    },
    {
     "data": {
      "application/vnd.jupyter.widget-view+json": {
       "model_id": "ffaeea837a7949ef8a3899cf6fa1b78c",
       "version_major": 2,
       "version_minor": 0
      },
      "text/plain": [
       "Epoch 17/30 [Train]:   0%|          | 0/15 [00:00<?, ?it/s]"
      ]
     },
     "metadata": {},
     "output_type": "display_data"
    },
    {
     "name": "stdout",
     "output_type": "stream",
     "text": [
      "Epoch 17/30 Summary:\n",
      "  Train Loss: 0.4608, Train Acc: 0.8494\n",
      "  Val Loss:   0.2701, Val Acc:   0.9241\n",
      "  Current LR: 0.000500\n",
      "---> New best model saved to best_face_model.pkl (Val Acc: 0.9241)\n"
     ]
    },
    {
     "data": {
      "application/vnd.jupyter.widget-view+json": {
       "model_id": "fff0fe2fb6b74762885e58a09ddf13b5",
       "version_major": 2,
       "version_minor": 0
      },
      "text/plain": [
       "Epoch 18/30 [Train]:   0%|          | 0/15 [00:00<?, ?it/s]"
      ]
     },
     "metadata": {},
     "output_type": "display_data"
    },
    {
     "name": "stdout",
     "output_type": "stream",
     "text": [
      "Epoch 18/30 Summary:\n",
      "  Train Loss: 0.4458, Train Acc: 0.8661\n",
      "  Val Loss:   0.2410, Val Acc:   0.9241\n",
      "  Current LR: 0.000500\n"
     ]
    },
    {
     "data": {
      "application/vnd.jupyter.widget-view+json": {
       "model_id": "b8c5e9ec3f4e490f849bbcb139a0a13a",
       "version_major": 2,
       "version_minor": 0
      },
      "text/plain": [
       "Epoch 19/30 [Train]:   0%|          | 0/15 [00:00<?, ?it/s]"
      ]
     },
     "metadata": {},
     "output_type": "display_data"
    },
    {
     "name": "stdout",
     "output_type": "stream",
     "text": [
      "Epoch 19/30 Summary:\n",
      "  Train Loss: 0.4440, Train Acc: 0.8285\n",
      "  Val Loss:   0.2402, Val Acc:   0.9241\n",
      "  Current LR: 0.000500\n"
     ]
    },
    {
     "data": {
      "application/vnd.jupyter.widget-view+json": {
       "model_id": "db302af663924c95af7a0aa13bb79de5",
       "version_major": 2,
       "version_minor": 0
      },
      "text/plain": [
       "Epoch 20/30 [Train]:   0%|          | 0/15 [00:00<?, ?it/s]"
      ]
     },
     "metadata": {},
     "output_type": "display_data"
    },
    {
     "name": "stdout",
     "output_type": "stream",
     "text": [
      "Epoch 20/30 Summary:\n",
      "  Train Loss: 0.4119, Train Acc: 0.8452\n",
      "  Val Loss:   0.2693, Val Acc:   0.9241\n",
      "  Current LR: 0.000500\n"
     ]
    },
    {
     "data": {
      "application/vnd.jupyter.widget-view+json": {
       "model_id": "7f5c28a7fbfc4131abcdf27921414b86",
       "version_major": 2,
       "version_minor": 0
      },
      "text/plain": [
       "Epoch 21/30 [Train]:   0%|          | 0/15 [00:00<?, ?it/s]"
      ]
     },
     "metadata": {},
     "output_type": "display_data"
    },
    {
     "name": "stdout",
     "output_type": "stream",
     "text": [
      "Epoch 21/30 Summary:\n",
      "  Train Loss: 0.4909, Train Acc: 0.8452\n",
      "  Val Loss:   0.2600, Val Acc:   0.9241\n",
      "  Current LR: 0.000500\n"
     ]
    },
    {
     "data": {
      "application/vnd.jupyter.widget-view+json": {
       "model_id": "1f939004d2304621a41e9c12a48a52dd",
       "version_major": 2,
       "version_minor": 0
      },
      "text/plain": [
       "Epoch 22/30 [Train]:   0%|          | 0/15 [00:00<?, ?it/s]"
      ]
     },
     "metadata": {},
     "output_type": "display_data"
    },
    {
     "name": "stdout",
     "output_type": "stream",
     "text": [
      "Epoch 22/30 Summary:\n",
      "  Train Loss: 0.5080, Train Acc: 0.8243\n",
      "  Val Loss:   0.2590, Val Acc:   0.9241\n",
      "  Current LR: 0.000500\n"
     ]
    },
    {
     "data": {
      "application/vnd.jupyter.widget-view+json": {
       "model_id": "d74f25c843af46229afb5635ec8f3b44",
       "version_major": 2,
       "version_minor": 0
      },
      "text/plain": [
       "Epoch 23/30 [Train]:   0%|          | 0/15 [00:00<?, ?it/s]"
      ]
     },
     "metadata": {},
     "output_type": "display_data"
    },
    {
     "name": "stdout",
     "output_type": "stream",
     "text": [
      "Epoch 23/30 Summary:\n",
      "  Train Loss: 0.4834, Train Acc: 0.8452\n",
      "  Val Loss:   0.2824, Val Acc:   0.9241\n",
      "  Current LR: 0.000250\n"
     ]
    },
    {
     "data": {
      "application/vnd.jupyter.widget-view+json": {
       "model_id": "379303ddeb9747feaef7ecfe69cb8096",
       "version_major": 2,
       "version_minor": 0
      },
      "text/plain": [
       "Epoch 24/30 [Train]:   0%|          | 0/15 [00:00<?, ?it/s]"
      ]
     },
     "metadata": {},
     "output_type": "display_data"
    },
    {
     "name": "stdout",
     "output_type": "stream",
     "text": [
      "Epoch 24/30 Summary:\n",
      "  Train Loss: 0.3576, Train Acc: 0.8828\n",
      "  Val Loss:   0.2823, Val Acc:   0.9241\n",
      "  Current LR: 0.000250\n"
     ]
    },
    {
     "data": {
      "application/vnd.jupyter.widget-view+json": {
       "model_id": "802be644e07347a9905ba375dfab946a",
       "version_major": 2,
       "version_minor": 0
      },
      "text/plain": [
       "Epoch 25/30 [Train]:   0%|          | 0/15 [00:00<?, ?it/s]"
      ]
     },
     "metadata": {},
     "output_type": "display_data"
    },
    {
     "name": "stdout",
     "output_type": "stream",
     "text": [
      "Epoch 25/30 Summary:\n",
      "  Train Loss: 0.4555, Train Acc: 0.8452\n",
      "  Val Loss:   0.2906, Val Acc:   0.9241\n",
      "  Current LR: 0.000250\n"
     ]
    },
    {
     "data": {
      "application/vnd.jupyter.widget-view+json": {
       "model_id": "8471b264b3fa4363b7b1aedf4164b77b",
       "version_major": 2,
       "version_minor": 0
      },
      "text/plain": [
       "Epoch 26/30 [Train]:   0%|          | 0/15 [00:00<?, ?it/s]"
      ]
     },
     "metadata": {},
     "output_type": "display_data"
    },
    {
     "name": "stdout",
     "output_type": "stream",
     "text": [
      "Epoch 26/30 Summary:\n",
      "  Train Loss: 0.4201, Train Acc: 0.8912\n",
      "  Val Loss:   0.2758, Val Acc:   0.9241\n",
      "  Current LR: 0.000250\n"
     ]
    },
    {
     "data": {
      "application/vnd.jupyter.widget-view+json": {
       "model_id": "ca0f6186da3b4a94bd8eadbcb1faad0d",
       "version_major": 2,
       "version_minor": 0
      },
      "text/plain": [
       "Epoch 27/30 [Train]:   0%|          | 0/15 [00:00<?, ?it/s]"
      ]
     },
     "metadata": {},
     "output_type": "display_data"
    },
    {
     "name": "stdout",
     "output_type": "stream",
     "text": [
      "Epoch 27/30 Summary:\n",
      "  Train Loss: 0.4294, Train Acc: 0.8494\n",
      "  Val Loss:   0.2616, Val Acc:   0.9241\n",
      "  Current LR: 0.000125\n"
     ]
    },
    {
     "data": {
      "application/vnd.jupyter.widget-view+json": {
       "model_id": "44c430b02c034a67a8842e0f03805e26",
       "version_major": 2,
       "version_minor": 0
      },
      "text/plain": [
       "Epoch 28/30 [Train]:   0%|          | 0/15 [00:00<?, ?it/s]"
      ]
     },
     "metadata": {},
     "output_type": "display_data"
    },
    {
     "name": "stdout",
     "output_type": "stream",
     "text": [
      "Epoch 28/30 Summary:\n",
      "  Train Loss: 0.4414, Train Acc: 0.8536\n",
      "  Val Loss:   0.2608, Val Acc:   0.9241\n",
      "  Current LR: 0.000125\n"
     ]
    },
    {
     "data": {
      "application/vnd.jupyter.widget-view+json": {
       "model_id": "39e298eb851342b8a9b87824d390bcb7",
       "version_major": 2,
       "version_minor": 0
      },
      "text/plain": [
       "Epoch 29/30 [Train]:   0%|          | 0/15 [00:00<?, ?it/s]"
      ]
     },
     "metadata": {},
     "output_type": "display_data"
    },
    {
     "name": "stdout",
     "output_type": "stream",
     "text": [
      "Epoch 29/30 Summary:\n",
      "  Train Loss: 0.4067, Train Acc: 0.8745\n",
      "  Val Loss:   0.2628, Val Acc:   0.9241\n",
      "  Current LR: 0.000125\n"
     ]
    },
    {
     "data": {
      "application/vnd.jupyter.widget-view+json": {
       "model_id": "a0853cf7a14c45009ca60b5dc95c0aa9",
       "version_major": 2,
       "version_minor": 0
      },
      "text/plain": [
       "Epoch 30/30 [Train]:   0%|          | 0/15 [00:00<?, ?it/s]"
      ]
     },
     "metadata": {},
     "output_type": "display_data"
    },
    {
     "name": "stdout",
     "output_type": "stream",
     "text": [
      "Epoch 30/30 Summary:\n",
      "  Train Loss: 0.4604, Train Acc: 0.8536\n",
      "  Val Loss:   0.2714, Val Acc:   0.9241\n",
      "  Current LR: 0.000125\n",
      "\n",
      "Training finished.\n",
      "Final model state saved to face_model.pkl\n"
     ]
    }
   ],
   "source": [
    "try:\n",
    "    train_images, train_labels, val_images, val_labels, class_names, class_weights = load_dataset(\n",
    "        dataset_path, val_size=val_size\n",
    "    )\n",
    "    \n",
    "    # Create mapping from class name to index\n",
    "    label_map = {label: idx for idx, label in enumerate(class_names)}\n",
    "    num_classes = len(class_names)\n",
    "\n",
    "    # Create Dataset instances\n",
    "    train_dataset = FaceDataset(train_images, train_labels, transform=train_transform, mtcnn_model=mtcnn_train, device=device)\n",
    "    val_dataset = FaceDataset(val_images, val_labels, transform=val_transform, mtcnn_model=mtcnn_train, device=device)\n",
    "    \n",
    "    # Create DataLoader instances\n",
    "    train_loader = DataLoader(\n",
    "        train_dataset, \n",
    "        batch_size=batch_size, \n",
    "        shuffle=True, \n",
    "        num_workers=0,\n",
    "        collate_fn=custom_collate_fn,\n",
    "        pin_memory=False # Set to True if using GPU and data fits memory\n",
    "    )\n",
    "    \n",
    "    val_loader = DataLoader(\n",
    "        val_dataset, \n",
    "        batch_size=batch_size, \n",
    "        shuffle=False, \n",
    "        num_workers=0,\n",
    "        collate_fn=custom_collate_fn,\n",
    "        pin_memory=False\n",
    "    )\n",
    "\n",
    "    # Create weight tensor for CrossEntropyLoss\n",
    "    weight_tensor = torch.zeros(num_classes)\n",
    "    for class_name, idx in label_map.items():\n",
    "        weight_tensor[idx] = class_weights.get(class_name, 1.0) # Use calculated weight, default to 1.0 if missing\n",
    "    weight_tensor = weight_tensor.to(device)\n",
    "    print(f\"Using loss weight tensor: {weight_tensor}\")\n",
    "\n",
    "except (FileNotFoundError, ValueError) as e:\n",
    "    print(f\"Error during data loading: {e}\")\n",
    "    raise e\n",
    "    \n",
    "model = FaceClassifier(embedding_dim=512, num_classes=num_classes, dropout_rate=dropout_rate).to(device)\n",
    "\n",
    "# Use weighted CrossEntropyLoss\n",
    "criterion = nn.CrossEntropyLoss(weight=weight_tensor)\n",
    "\n",
    "# AdamW optimizer with weight decay for regularization\n",
    "optimizer = optim.AdamW(model.parameters(), lr=learning_rate, weight_decay=weight_decay)\n",
    "\n",
    "# Learning rate scheduler: reduces LR if validation loss plateaus\n",
    "scheduler = ReduceLROnPlateau(optimizer, mode='min', factor=0.5, patience=patience, verbose=True)\n",
    "\n",
    "best_val_accuracy = 0.0\n",
    "train_losses, val_losses = [], []\n",
    "train_accuracies, val_accuracies = [], []\n",
    "\n",
    "print(f\"\\nStarting training for {num_epochs} epochs...\")\n",
    "\n",
    "for epoch in range(num_epochs):\n",
    "    model.train() # Set model to training mode\n",
    "    running_loss = 0.0\n",
    "    correct_train, total_train = 0, 0\n",
    "    \n",
    "    # Use tqdm for progress bar\n",
    "    progress_bar = tqdm(train_loader, desc=f\"Epoch {epoch+1}/{num_epochs} [Train]\", leave=False)\n",
    "    \n",
    "    for images, labels in progress_bar:\n",
    "        if images.nelement() == 0: # Skip empty batches\n",
    "            continue\n",
    "            \n",
    "        images = images.to(device)\n",
    "        label_indices = torch.tensor([label_map[label] for label in labels]).to(device)\n",
    "        \n",
    "        # Zero the gradients\n",
    "        optimizer.zero_grad()\n",
    "        \n",
    "        # Get embeddings (no gradients needed for FaceNet)\n",
    "        with torch.no_grad():\n",
    "            embeddings = facenet(images)\n",
    "        \n",
    "        # Forward pass through classifier\n",
    "        outputs = model(embeddings)\n",
    "        \n",
    "        # Calculate loss\n",
    "        loss = criterion(outputs, label_indices)\n",
    "        \n",
    "        # Backward pass and optimize\n",
    "        loss.backward()\n",
    "        optimizer.step()\n",
    "        \n",
    "        # Update statistics\n",
    "        running_loss += loss.item() * images.size(0)\n",
    "        _, predicted_train = torch.max(outputs.data, 1)\n",
    "        total_train += label_indices.size(0)\n",
    "        correct_train += (predicted_train == label_indices).sum().item()\n",
    "        \n",
    "        # Update progress bar description\n",
    "        progress_bar.set_postfix(loss=f\"{loss.item():.4f}\", acc=f\"{correct_train/total_train:.4f}\" if total_train > 0 else \"0.0000\")\n",
    "        \n",
    "    # Calculate epoch training metrics\n",
    "    epoch_train_loss = running_loss / total_train if total_train > 0 else 0\n",
    "    epoch_train_acc = correct_train / total_train if total_train > 0 else 0\n",
    "    train_losses.append(epoch_train_loss)\n",
    "    train_accuracies.append(epoch_train_acc)\n",
    "    \n",
    "    epoch_val_loss, epoch_val_acc, _, _ = evaluate_model(model, val_loader, criterion, device, label_map)\n",
    "    val_losses.append(epoch_val_loss)\n",
    "    val_accuracies.append(epoch_val_acc)\n",
    "\n",
    "    # Adjust learning rate based on validation loss\n",
    "    scheduler.step(epoch_val_loss)\n",
    "    current_lr = optimizer.param_groups[0]['lr']\n",
    "    \n",
    "    print(f\"Epoch {epoch+1}/{num_epochs} Summary:\")\n",
    "    print(f\"  Train Loss: {epoch_train_loss:.4f}, Train Acc: {epoch_train_acc:.4f}\")\n",
    "    print(f\"  Val Loss:   {epoch_val_loss:.4f}, Val Acc:   {epoch_val_acc:.4f}\")\n",
    "    print(f\"  Current LR: {current_lr:.6f}\")\n",
    "    \n",
    "    # Save the best model based on validation accuracy\n",
    "    if epoch_val_acc > best_val_accuracy:\n",
    "        best_val_accuracy = epoch_val_acc\n",
    "        model_data = {\n",
    "            'model': model.state_dict(),\n",
    "            'class_names': class_names,\n",
    "            'label_map': label_map,\n",
    "            'epoch': epoch,\n",
    "            'val_acc': epoch_val_acc,\n",
    "            'train_acc': epoch_train_acc\n",
    "        }\n",
    "        try:\n",
    "            with open(best_model_path, \"wb\") as f:\n",
    "                pickle.dump(model_data, f)\n",
    "            print(f\"---> New best model saved to {best_model_path} (Val Acc: {epoch_val_acc:.4f})\")\n",
    "        except Exception as e:\n",
    "            print(f\"Error saving best model: {e}\")\n",
    "\n",
    "print(\"\\nTraining finished.\")\n",
    "\n",
    "# Save the final model state\n",
    "final_model_data = {\n",
    "    'model': model.state_dict(),\n",
    "    'class_names': class_names,\n",
    "    'label_map': label_map\n",
    "}\n",
    "try:\n",
    "    with open(final_model_path, \"wb\") as f:\n",
    "        pickle.dump(final_model_data, f)\n",
    "    print(f\"Final model state saved to {final_model_path}\")\n",
    "except Exception as e:\n",
    "    print(f\"Error saving final model: {e}\")"
   ]
  },
  {
   "cell_type": "markdown",
   "metadata": {},
   "source": [
    "## 5. Evaluation & Visualization"
   ]
  },
  {
   "cell_type": "code",
   "execution_count": 7,
   "metadata": {},
   "outputs": [
    {
     "data": {
      "image/png": "[encoded data removed]",
      "text/plain": [
       "<Figure size 1500x500 with 2 Axes>"
      ]
     },
     "metadata": {},
     "output_type": "display_data"
    },
    {
     "name": "stdout",
     "output_type": "stream",
     "text": [
      "\n",
      "Evaluating the best saved model on the validation set...\n",
      "Successfully loaded best model from epoch 16 with Val Acc: 0.9241\n",
      "Best Model Validation -> Loss: 0.2701, Accuracy: 0.9241\n"
     ]
    },
    {
     "data": {
      "image/png": "[encoded data removed]",
      "text/plain": [
       "<Figure size 1000x800 with 2 Axes>"
      ]
     },
     "metadata": {},
     "output_type": "display_data"
    }
   ],
   "source": [
    "# Plot Training History\n",
    "epochs_range = range(1, num_epochs + 1)\n",
    "\n",
    "plt.style.use('seaborn-v0_8-darkgrid')\n",
    "fig, (ax1, ax2) = plt.subplots(1, 2, figsize=(15, 5))\n",
    "\n",
    "# Plot Loss\n",
    "ax1.plot(epochs_range, train_losses, label='Training Loss', marker='o', linestyle='-')\n",
    "ax1.plot(epochs_range, val_losses, label='Validation Loss', marker='x', linestyle='--')\n",
    "ax1.set_title('Training and Validation Loss')\n",
    "ax1.set_xlabel('Epoch')\n",
    "ax1.set_ylabel('Loss')\n",
    "ax1.legend()\n",
    "ax1.grid(True)\n",
    "\n",
    "# Plot Accuracy\n",
    "ax2.plot(epochs_range, train_accuracies, label='Training Accuracy', marker='o', linestyle='-')\n",
    "ax2.plot(epochs_range, val_accuracies, label='Validation Accuracy', marker='x', linestyle='--')\n",
    "ax2.set_title('Training and Validation Accuracy')\n",
    "ax2.set_xlabel('Epoch')\n",
    "ax2.set_ylabel('Accuracy')\n",
    "ax2.legend()\n",
    "ax2.grid(True)\n",
    "\n",
    "plt.tight_layout()\n",
    "plt.show()\n",
    "\n",
    "# Evaluate Best Model and Show Confusion Matrix\n",
    "print(\"\\nEvaluating the best saved model on the validation set...\")\n",
    "\n",
    "# Load the best model saved during training\n",
    "try:\n",
    "    with open(best_model_path, \"rb\") as f:\n",
    "        best_model_data = pickle.load(f)\n",
    "    \n",
    "    # Re-initialize model architecture and load state dict\n",
    "    best_model = FaceClassifier(embedding_dim=512, num_classes=len(best_model_data['class_names']), dropout_rate=dropout_rate).to(device)\n",
    "    best_model.load_state_dict(best_model_data['model'])\n",
    "    loaded_class_names = best_model_data['class_names']\n",
    "    loaded_label_map = best_model_data['label_map']\n",
    "    print(f\"Successfully loaded best model from epoch {best_model_data.get('epoch', 'N/A')} with Val Acc: {best_model_data.get('val_acc', 0.0):.4f}\")\n",
    "\n",
    "    # Evaluate the loaded best model\n",
    "    best_val_loss, best_val_acc, val_preds_indices, val_true_indices = evaluate_model(\n",
    "        best_model, val_loader, criterion, device, loaded_label_map\n",
    "    )\n",
    "    print(f\"Best Model Validation -> Loss: {best_val_loss:.4f}, Accuracy: {best_val_acc:.4f}\")\n",
    "\n",
    "    # Generate and plot confusion matrix\n",
    "    if val_preds_indices and val_true_indices:\n",
    "        cm = confusion_matrix(val_true_indices, val_preds_indices)\n",
    "        plt.figure(figsize=(10, 8))\n",
    "        sns.heatmap(cm, annot=True, fmt='d', cmap='Blues', \n",
    "                    xticklabels=loaded_class_names, yticklabels=loaded_class_names)\n",
    "        plt.xlabel('Predicted Labels')\n",
    "        plt.ylabel('True Labels')\n",
    "        plt.title('Confusion Matrix for Best Model on Validation Set')\n",
    "        plt.show()\n",
    "    else:\n",
    "        print(\"Could not generate confusion matrix: No validation predictions found.\")\n",
    "\n",
    "except FileNotFoundError:\n",
    "    print(f\"Error: Best model file '{best_model_path}' not found. Cannot evaluate or show confusion matrix.\")\n",
    "except Exception as e:\n",
    "    print(f\"An error occurred while loading or evaluating the best model: {e}\")\n"
   ]
  },
  {
   "cell_type": "code",
   "execution_count": 9,
   "metadata": {},
   "outputs": [
    {
     "name": "stdout",
     "output_type": "stream",
     "text": [
      "\n",
      "Evaluating the final saved model on the validation set...\n",
      "Final Model Validation -> Loss: 0.2714, Accuracy: 0.9241\n"
     ]
    },
    {
     "data": {
      "image/png": "[encoded data removed]",
      "text/plain": [
       "<Figure size 1000x800 with 2 Axes>"
      ]
     },
     "metadata": {},
     "output_type": "display_data"
    }
   ],
   "source": [
    "# Evaluate Final Model (last-epoch weights) and Show Confusion Matrix\n",
    "print(\"\\nEvaluating the final saved model on the validation set...\")\n",
    "\n",
    "# Load the final model saved during training\n",
    "try:\n",
    "    with open(final_model_path, \"rb\") as f:\n",
    "        final_model_data = pickle.load(f)\n",
    "    \n",
    "    # Re-initialize model architecture and load state dict\n",
    "    final_model = FaceClassifier(embedding_dim=512, num_classes=len(final_model_data['class_names']), dropout_rate=dropout_rate).to(device)\n",
    "    final_model.load_state_dict(final_model_data['model'])\n",
    "    loaded_class_names = final_model_data['class_names']\n",
    "    loaded_label_map = final_model_data['label_map']\n",
    "\n",
    "    # Evaluate the final saved model\n",
    "    final_val_loss, final_val_acc, val_preds_indices, val_true_indices = evaluate_model(\n",
    "        final_model, val_loader, criterion, device, loaded_label_map\n",
    "    )\n",
    "    print(f\"Final Model Validation -> Loss: {final_val_loss:.4f}, Accuracy: {final_val_acc:.4f}\")\n",
    "\n",
    "    # Generate and plot confusion matrix\n",
    "    if val_preds_indices and val_true_indices:\n",
    "        cm = confusion_matrix(val_true_indices, val_preds_indices)\n",
    "        plt.figure(figsize=(10, 8))\n",
    "        sns.heatmap(cm, annot=True, fmt='d', cmap='Blues', \n",
    "                    xticklabels=loaded_class_names, yticklabels=loaded_class_names)\n",
    "        plt.xlabel('Predicted Labels')\n",
    "        plt.ylabel('True Labels')\n",
    "        plt.title('Confusion Matrix for Final Model on Validation Set')\n",
    "        plt.show()\n",
    "    else:\n",
    "        print(\"Could not generate confusion matrix: No validation predictions found.\")\n",
    "\n",
    "except FileNotFoundError:\n",
    "    print(f\"Error: Final model file '{final_model_path}' not found. Cannot evaluate or show confusion matrix.\")\n",
    "except Exception as e:\n",
    "    print(f\"An error occurred while loading or evaluating the final model: {e}\")\n"
   ]
  }
 ],
 "metadata": {
  "kernelspec": {
   "display_name": "ee4228",
   "language": "python",
   "name": "python3"
  },
  "language_info": {
   "codemirror_mode": {
    "name": "ipython",
    "version": 3
   },
   "file_extension": ".py",
   "mimetype": "text/x-python",
   "name": "python",
   "nbconvert_exporter": "python",
   "pygments_lexer": "ipython3",
   "version": "3.10.16"
  }
 },
 "nbformat": 4,
 "nbformat_minor": 2
}
