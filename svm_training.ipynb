{
 "cells": [
  {
   "cell_type": "code",
   "execution_count": null,
   "metadata": {},
   "outputs": [],
   "source": [
    "import cv2\n",
    "import os\n",
    "import numpy as np\n",
    "from skimage.feature import hog\n",
    "from sklearn.model_selection import train_test_split\n",
    "from sklearn import svm\n",
    "\n",
    "# Path to the extracted dataset folder\n",
    "dataset_folder = \"lfw-dataset/lfw-deepfunneled/\"\n",
    "\n",
    "# Initialize lists for the image data and labels\n",
    "X_data = []\n",
    "y_labels = []\n",
    "\n",
    "# Loop through all images in the dataset\n",
    "for subdir, dirs, files in os.walk(dataset_folder):\n",
    "    for file in files:\n",
    "        file_path = os.path.join(subdir, file)\n",
    "        if file_path.endswith(\".jpg\"):\n",
    "            image = cv2.imread(file_path)\n",
    "            gray = cv2.cvtColor(image, cv2.COLOR_BGR2GRAY)\n",
    "\n",
    "            # Resize image to a consistent size\n",
    "            gray_resized = cv2.resize(gray, (64, 128))\n",
    "\n",
    "            # Extract HOG features from the image\n",
    "            features, _ = hog(gray_resized, pixels_per_cell=(8, 8), cells_per_block=(2, 2), visualize=True)\n",
    "            X_data.append(features)\n",
    "\n",
    "            # Assign label based on the subdirectory (person name)\n",
    "            label = subdir.split('/')[-1]  # Use folder name as label\n",
    "            y_labels.append(label)\n",
    "\n",
    "# Convert data to numpy arrays\n",
    "X_data = np.array(X_data)\n",
    "y_labels = np.array(y_labels)\n",
    "\n",
    "# Split the data into training and testing sets\n",
    "X_train, X_test, y_train, y_test = train_test_split(X_data, y_labels, test_size=0.2, random_state=42)\n"
   ]
  }
 ],
 "metadata": {
  "kernelspec": {
   "display_name": "mrcaruco",
   "language": "python",
   "name": "python3"
  },
  "language_info": {
   "name": "python",
   "version": "3.7.16"
  }
 },
 "nbformat": 4,
 "nbformat_minor": 2
}
